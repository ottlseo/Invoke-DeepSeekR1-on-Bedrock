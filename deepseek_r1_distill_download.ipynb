{
 "cells": [
  {
   "cell_type": "markdown",
   "id": "7bd4c755-a6df-424a-9834-00c193d9dbbb",
   "metadata": {},
   "source": [
    "# Download model snapshot and Upload to S3 Bucket\n",
    "\n",
    "This notebook works well on `ml.t3.medium` instance with `Python3` kernel from **JupyterLab**."
   ]
  },
  {
   "cell_type": "markdown",
   "id": "2989a5c1-070a-4ac3-b944-085349e904b4",
   "metadata": {},
   "source": [
    "# 1. Install Required Dependencies"
   ]
  },
  {
   "cell_type": "code",
   "execution_count": null,
   "id": "ea0fed3c",
   "metadata": {
    "vscode": {
     "languageId": "plaintext"
    }
   },
   "outputs": [],
   "source": [
    "%%capture --no-stderr\n",
    "\n",
    "!pip install -U pip\n",
    "!pip install -U huggingface_hub \n",
    "!pip install -U boto3"
   ]
  },
  {
   "cell_type": "markdown",
   "id": "3019a089",
   "metadata": {},
   "source": [
    "# 2. Download the DeepSeek R1 Model\n",
    "HuggingFace Hub 를 사용하여 특정 DeepSeek-R1 모델을 다운로드합니다. 아래 코드는 DeepSeek-R1-Distill-Llama-8B 모델을 다운로드합니다. 다른 R1 모델을 다운로드 하시려면 https://huggingface.co/deepseek-ai 에서 모델을 찾아, model_id와 local_dir 변수를 수정해주세요.   \n",
    " \n",
    "Use the Hugging Face Hub to download your specific DeepSeek R1 model. For example, to download the DeepSeek-R1-Distill-Llama-8B model."
   ]
  },
  {
   "cell_type": "code",
   "execution_count": null,
   "id": "b6dc8c50",
   "metadata": {
    "vscode": {
     "languageId": "plaintext"
    }
   },
   "outputs": [],
   "source": [
    "from huggingface_hub import snapshot_download\n",
    "\n",
    "model_id = \"deepseek-ai/DeepSeek-R1-Distill-Llama-8B\"\n",
    "local_dir = snapshot_download(repo_id=model_id, local_dir=\"DeepSeek-R1-Distill-Llama-8B\")"
   ]
  },
  {
   "cell_type": "markdown",
   "id": "1ba247ab",
   "metadata": {},
   "source": [
    "# 3. Upload Model Files to Amazon S3\n",
    "다운로드한 모델 파일을 AWS 계정의 S3 버킷에 업로드합니다. `bucket_name` 변수를 버킷명으로 업데이트해주세요.   \n",
    "\n",
    "Upload the downloaded model files to an S3 bucket in your AWS account. "
   ]
  },
  {
   "cell_type": "code",
   "execution_count": null,
   "id": "8e76b922",
   "metadata": {
    "vscode": {
     "languageId": "plaintext"
    }
   },
   "outputs": [],
   "source": [
    "import boto3\n",
    "import os\n",
    "\n",
    "s3_client = boto3.client('s3', region_name='us-east-1')\n",
    "bucket_name = '<your-s3-bucket-name>'\n",
    "local_directory = 'DeepSeek-R1-Distill-Llama-8B'\n",
    "\n",
    "for root, dirs, files in os.walk(local_directory):\n",
    "    for file in files:\n",
    "        local_path = os.path.join(root, file)\n",
    "        s3_key = os.path.relpath(local_path, local_directory)\n",
    "        s3_client.upload_file(local_path, bucket_name, s3_key)"
   ]
  },
  {
   "cell_type": "markdown",
   "id": "824e3a7d",
   "metadata": {},
   "source": []
  },
  {
   "cell_type": "markdown",
   "id": "28168876-e166-4572-a482-d60b8a78d0d8",
   "metadata": {},
   "source": [
    "# References\n",
    "\n",
    "- [DeepSeek-R1 Model Card](https://huggingface.co/deepseek-ai/DeepSeek-R1#usage-recommendations)\n",
    "- [deepseek-ai/deepseek-coder-6.7b-instruct SageMaker LMI deployment guide](https://github.com/aws-samples/llm_deploy_gcr/blob/main/sagemaker/deepseek_coder_6.7_instruct.ipynb)"
   ]
  }
 ],
 "metadata": {
  "kernelspec": {
   "display_name": "Python 3 (ipykernel)",
   "language": "python",
   "name": "python3"
  },
  "language_info": {
   "codemirror_mode": {
    "name": "ipython",
    "version": 3
   },
   "file_extension": ".py",
   "mimetype": "text/x-python",
   "name": "python",
   "nbconvert_exporter": "python",
   "pygments_lexer": "ipython3",
   "version": "3.11.10"
  }
 },
 "nbformat": 4,
 "nbformat_minor": 5
}
